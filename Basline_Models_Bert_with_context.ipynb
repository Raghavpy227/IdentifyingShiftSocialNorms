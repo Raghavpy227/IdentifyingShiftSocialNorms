{
 "cells": [
  {
   "cell_type": "markdown",
   "id": "694c838c",
   "metadata": {},
   "source": [
    "## Baseline Models\n",
    "\n",
    "The aim of this script is to generate baseline models which use pretarined models like BERT , T5 and gpt2 and compare the performance of it vs a trained openprompt model. "
   ]
  },
  {
   "cell_type": "markdown",
   "id": "4fb60abe",
   "metadata": {},
   "source": [
    "## Imports and Datapreprocessing "
   ]
  },
  {
   "cell_type": "code",
   "execution_count": 1,
   "id": "41e29936",
   "metadata": {},
   "outputs": [
    {
     "name": "stderr",
     "output_type": "stream",
     "text": [
      "C:\\Users\\py22715\\.conda\\envs\\v38\\lib\\site-packages\\tqdm\\auto.py:21: TqdmWarning: IProgress not found. Please update jupyter and ipywidgets. See https://ipywidgets.readthedocs.io/en/stable/user_install.html\n",
      "  from .autonotebook import tqdm as notebook_tqdm\n",
      "WARNING: Skipping preprocessor as it is not installed.\n"
     ]
    },
    {
     "name": "stdout",
     "output_type": "stream",
     "text": [
      "Requirement already satisfied: tweet-preprocessor==0.6.0 in c:\\users\\py22715\\.conda\\envs\\v38\\lib\\site-packages (0.6.0)\n"
     ]
    }
   ],
   "source": [
    "import pandas as pd\n",
    "import numpy as np\n",
    "import torch\n",
    "import os\n",
    "from sklearn.preprocessing import LabelEncoder\n",
    "from sklearn.metrics import balanced_accuracy_score,f1_score,classification_report\n",
    "from sklearn.model_selection import train_test_split\n",
    "import transformers\n",
    "from transformers import BertModel, BertTokenizer\n",
    "import warnings\n",
    "import redditcleaner\n",
    "from torch.utils.data import Dataset, DataLoader\n",
    "import redditcleaner\n",
    "!pip uninstall preprocessor\n",
    "!pip install tweet-preprocessor==0.6.0\n",
    "from transformers import AutoTokenizer\n",
    "from tqdm.contrib import tenumerate"
   ]
  },
  {
   "cell_type": "code",
   "execution_count": 2,
   "id": "b0e1832a",
   "metadata": {},
   "outputs": [],
   "source": [
    "path=r\"C:\\Users\\py22715\\OneDrive - University of Bristol\\Documents\\Python Scripts\"\n",
    "df=pd.read_csv(os.path.join(path,\"RS_2012-03_violations2.csv\"))"
   ]
  },
  {
   "cell_type": "code",
   "execution_count": 3,
   "id": "cf5a419c",
   "metadata": {},
   "outputs": [
    {
     "data": {
      "text/html": [
       "<div>\n",
       "<style scoped>\n",
       "    .dataframe tbody tr th:only-of-type {\n",
       "        vertical-align: middle;\n",
       "    }\n",
       "\n",
       "    .dataframe tbody tr th {\n",
       "        vertical-align: top;\n",
       "    }\n",
       "\n",
       "    .dataframe thead th {\n",
       "        text-align: right;\n",
       "    }\n",
       "</style>\n",
       "<table border=\"1\" class=\"dataframe\">\n",
       "  <thead>\n",
       "    <tr style=\"text-align: right;\">\n",
       "      <th></th>\n",
       "      <th>id</th>\n",
       "      <th>subreddit</th>\n",
       "      <th>created_date</th>\n",
       "      <th>context</th>\n",
       "      <th>is_violation</th>\n",
       "      <th>violation</th>\n",
       "      <th>sentence</th>\n",
       "    </tr>\n",
       "  </thead>\n",
       "  <tbody>\n",
       "    <tr>\n",
       "      <th>0</th>\n",
       "      <td>qdole</td>\n",
       "      <td>Conservative</td>\n",
       "      <td>2012-03-01 23:59:45</td>\n",
       "      <td>['[\"The hypocrisy is interesting to watch, tha...</td>\n",
       "      <td>Yes</td>\n",
       "      <td>harrassment</td>\n",
       "      <td>\"OP, you're a complete moron and an embarrass...</td>\n",
       "    </tr>\n",
       "    <tr>\n",
       "      <th>1</th>\n",
       "      <td>qdole</td>\n",
       "      <td>Conservative</td>\n",
       "      <td>2012-03-01 23:59:45</td>\n",
       "      <td>['[\"The hypocrisy is interesting to watch, tha...</td>\n",
       "      <td>No</td>\n",
       "      <td>No Violations</td>\n",
       "      <td>\"Irrational hate of something they don't unde...</td>\n",
       "    </tr>\n",
       "    <tr>\n",
       "      <th>2</th>\n",
       "      <td>qdole</td>\n",
       "      <td>Conservative</td>\n",
       "      <td>2012-03-01 23:59:45</td>\n",
       "      <td>['[\"The hypocrisy is interesting to watch, tha...</td>\n",
       "      <td>No</td>\n",
       "      <td>No Violations</td>\n",
       "      <td>\"Let me clarify this. I don't believe that an...</td>\n",
       "    </tr>\n",
       "    <tr>\n",
       "      <th>3</th>\n",
       "      <td>qdoi3</td>\n",
       "      <td>TeraOnline</td>\n",
       "      <td>2012-03-01 23:57:45</td>\n",
       "      <td>['[\"well i would say i want one because the ga...</td>\n",
       "      <td>No</td>\n",
       "      <td>No Violations</td>\n",
       "      <td>\"DAmnnit, woke up to find this xD I've preord...</td>\n",
       "    </tr>\n",
       "    <tr>\n",
       "      <th>4</th>\n",
       "      <td>qdoi3</td>\n",
       "      <td>TeraOnline</td>\n",
       "      <td>2012-03-01 23:57:45</td>\n",
       "      <td>['[\"well i would say i want one because the ga...</td>\n",
       "      <td>No</td>\n",
       "      <td>No Violations</td>\n",
       "      <td>\"I would like to try TERA without waiting so ...</td>\n",
       "    </tr>\n",
       "  </tbody>\n",
       "</table>\n",
       "</div>"
      ],
      "text/plain": [
       "      id     subreddit         created_date  \\\n",
       "0  qdole  Conservative  2012-03-01 23:59:45   \n",
       "1  qdole  Conservative  2012-03-01 23:59:45   \n",
       "2  qdole  Conservative  2012-03-01 23:59:45   \n",
       "3  qdoi3    TeraOnline  2012-03-01 23:57:45   \n",
       "4  qdoi3    TeraOnline  2012-03-01 23:57:45   \n",
       "\n",
       "                                             context is_violation  \\\n",
       "0  ['[\"The hypocrisy is interesting to watch, tha...          Yes   \n",
       "1  ['[\"The hypocrisy is interesting to watch, tha...           No   \n",
       "2  ['[\"The hypocrisy is interesting to watch, tha...           No   \n",
       "3  ['[\"well i would say i want one because the ga...           No   \n",
       "4  ['[\"well i would say i want one because the ga...           No   \n",
       "\n",
       "       violation                                           sentence  \n",
       "0    harrassment   \"OP, you're a complete moron and an embarrass...  \n",
       "1  No Violations   \"Irrational hate of something they don't unde...  \n",
       "2  No Violations   \"Let me clarify this. I don't believe that an...  \n",
       "3  No Violations   \"DAmnnit, woke up to find this xD I've preord...  \n",
       "4  No Violations   \"I would like to try TERA without waiting so ...  "
      ]
     },
     "execution_count": 3,
     "metadata": {},
     "output_type": "execute_result"
    }
   ],
   "source": [
    "df.head(5)"
   ]
  },
  {
   "cell_type": "markdown",
   "id": "c71fdb4e",
   "metadata": {},
   "source": [
    "### Defining functions for cleaning data "
   ]
  },
  {
   "cell_type": "code",
   "execution_count": 4,
   "id": "b2432ca7",
   "metadata": {},
   "outputs": [
    {
     "name": "stderr",
     "output_type": "stream",
     "text": [
      "Downloading (…)/main/tokenizer.json: 100%|██████████| 436k/436k [00:00<00:00, 5.97MB/s]\n",
      "C:\\Users\\py22715\\.conda\\envs\\v38\\lib\\site-packages\\huggingface_hub\\file_download.py:133: UserWarning: `huggingface_hub` cache-system uses symlinks by default to efficiently store duplicated files but your machine does not support them in C:\\Users\\py22715\\.cache\\huggingface\\hub. Caching files will still work but in a degraded version that might require more space on your disk. This warning can be disabled by setting the `HF_HUB_DISABLE_SYMLINKS_WARNING` environment variable. For more details, see https://huggingface.co/docs/huggingface_hub/how-to-cache#limitations.\n",
      "To support symlinks on Windows, you either need to activate Developer Mode or to run Python as an administrator. In order to see activate developer mode, see this article: https://docs.microsoft.com/en-us/windows/apps/get-started/enable-your-device-for-development\n",
      "  warnings.warn(message)\n"
     ]
    }
   ],
   "source": [
    "tokenizer = AutoTokenizer.from_pretrained(\"bert-base-cased\")\n",
    "def reddit_clean(x):\n",
    "            \n",
    "            return tokenizer.tokenize(x)\n",
    "def reddit_batch_clean(x):\n",
    "            return [tokenizer.tokenize(redditcleaner.clean(e)) for e in x]\n"
   ]
  },
  {
   "cell_type": "code",
   "execution_count": 5,
   "id": "58e0b68b",
   "metadata": {},
   "outputs": [
    {
     "name": "stderr",
     "output_type": "stream",
     "text": [
      "Token indices sequence length is longer than the specified maximum sequence length for this model (766 > 512). Running this sequence through the model will result in indexing errors\n"
     ]
    }
   ],
   "source": [
    "sentences=df['sentence']\n",
    "#df.drop(['sentence'],axis=1,inplace= True)\n",
    "final_sentences=[]\n",
    "for i in sentences:\n",
    "    final_sentences.append(reddit_clean(i))    \n",
    "df['final_sentences']=final_sentences    \n",
    "    "
   ]
  },
  {
   "cell_type": "code",
   "execution_count": 6,
   "id": "350c6b0b",
   "metadata": {},
   "outputs": [
    {
     "data": {
      "text/html": [
       "<div>\n",
       "<style scoped>\n",
       "    .dataframe tbody tr th:only-of-type {\n",
       "        vertical-align: middle;\n",
       "    }\n",
       "\n",
       "    .dataframe tbody tr th {\n",
       "        vertical-align: top;\n",
       "    }\n",
       "\n",
       "    .dataframe thead th {\n",
       "        text-align: right;\n",
       "    }\n",
       "</style>\n",
       "<table border=\"1\" class=\"dataframe\">\n",
       "  <thead>\n",
       "    <tr style=\"text-align: right;\">\n",
       "      <th></th>\n",
       "      <th>id</th>\n",
       "      <th>subreddit</th>\n",
       "      <th>created_date</th>\n",
       "      <th>context</th>\n",
       "      <th>is_violation</th>\n",
       "      <th>violation</th>\n",
       "      <th>sentence</th>\n",
       "      <th>final_sentences</th>\n",
       "    </tr>\n",
       "  </thead>\n",
       "  <tbody>\n",
       "    <tr>\n",
       "      <th>0</th>\n",
       "      <td>qdole</td>\n",
       "      <td>Conservative</td>\n",
       "      <td>2012-03-01 23:59:45</td>\n",
       "      <td>['[\"The hypocrisy is interesting to watch, tha...</td>\n",
       "      <td>Yes</td>\n",
       "      <td>harrassment</td>\n",
       "      <td>\"OP, you're a complete moron and an embarrass...</td>\n",
       "      <td>[\", O, ##P, ,, you, ', re, a, complete, m, ##o...</td>\n",
       "    </tr>\n",
       "    <tr>\n",
       "      <th>1</th>\n",
       "      <td>qdole</td>\n",
       "      <td>Conservative</td>\n",
       "      <td>2012-03-01 23:59:45</td>\n",
       "      <td>['[\"The hypocrisy is interesting to watch, tha...</td>\n",
       "      <td>No</td>\n",
       "      <td>No Violations</td>\n",
       "      <td>\"Irrational hate of something they don't unde...</td>\n",
       "      <td>[\", I, ##rra, ##tional, hate, of, something, t...</td>\n",
       "    </tr>\n",
       "    <tr>\n",
       "      <th>2</th>\n",
       "      <td>qdole</td>\n",
       "      <td>Conservative</td>\n",
       "      <td>2012-03-01 23:59:45</td>\n",
       "      <td>['[\"The hypocrisy is interesting to watch, tha...</td>\n",
       "      <td>No</td>\n",
       "      <td>No Violations</td>\n",
       "      <td>\"Let me clarify this. I don't believe that an...</td>\n",
       "      <td>[\", Let, me, c, ##lar, ##ify, this, ., I, don,...</td>\n",
       "    </tr>\n",
       "    <tr>\n",
       "      <th>3</th>\n",
       "      <td>qdoi3</td>\n",
       "      <td>TeraOnline</td>\n",
       "      <td>2012-03-01 23:57:45</td>\n",
       "      <td>['[\"well i would say i want one because the ga...</td>\n",
       "      <td>No</td>\n",
       "      <td>No Violations</td>\n",
       "      <td>\"DAmnnit, woke up to find this xD I've preord...</td>\n",
       "      <td>[\", D, ##A, ##m, ##nn, ##it, ,, woke, up, to, ...</td>\n",
       "    </tr>\n",
       "    <tr>\n",
       "      <th>4</th>\n",
       "      <td>qdoi3</td>\n",
       "      <td>TeraOnline</td>\n",
       "      <td>2012-03-01 23:57:45</td>\n",
       "      <td>['[\"well i would say i want one because the ga...</td>\n",
       "      <td>No</td>\n",
       "      <td>No Violations</td>\n",
       "      <td>\"I would like to try TERA without waiting so ...</td>\n",
       "      <td>[\", I, would, like, to, try, T, ##ER, ##A, wit...</td>\n",
       "    </tr>\n",
       "  </tbody>\n",
       "</table>\n",
       "</div>"
      ],
      "text/plain": [
       "      id     subreddit         created_date  \\\n",
       "0  qdole  Conservative  2012-03-01 23:59:45   \n",
       "1  qdole  Conservative  2012-03-01 23:59:45   \n",
       "2  qdole  Conservative  2012-03-01 23:59:45   \n",
       "3  qdoi3    TeraOnline  2012-03-01 23:57:45   \n",
       "4  qdoi3    TeraOnline  2012-03-01 23:57:45   \n",
       "\n",
       "                                             context is_violation  \\\n",
       "0  ['[\"The hypocrisy is interesting to watch, tha...          Yes   \n",
       "1  ['[\"The hypocrisy is interesting to watch, tha...           No   \n",
       "2  ['[\"The hypocrisy is interesting to watch, tha...           No   \n",
       "3  ['[\"well i would say i want one because the ga...           No   \n",
       "4  ['[\"well i would say i want one because the ga...           No   \n",
       "\n",
       "       violation                                           sentence  \\\n",
       "0    harrassment   \"OP, you're a complete moron and an embarrass...   \n",
       "1  No Violations   \"Irrational hate of something they don't unde...   \n",
       "2  No Violations   \"Let me clarify this. I don't believe that an...   \n",
       "3  No Violations   \"DAmnnit, woke up to find this xD I've preord...   \n",
       "4  No Violations   \"I would like to try TERA without waiting so ...   \n",
       "\n",
       "                                     final_sentences  \n",
       "0  [\", O, ##P, ,, you, ', re, a, complete, m, ##o...  \n",
       "1  [\", I, ##rra, ##tional, hate, of, something, t...  \n",
       "2  [\", Let, me, c, ##lar, ##ify, this, ., I, don,...  \n",
       "3  [\", D, ##A, ##m, ##nn, ##it, ,, woke, up, to, ...  \n",
       "4  [\", I, would, like, to, try, T, ##ER, ##A, wit...  "
      ]
     },
     "execution_count": 6,
     "metadata": {},
     "output_type": "execute_result"
    }
   ],
   "source": [
    "df['final_sentences']=final_sentences  \n",
    "df.head()\n"
   ]
  },
  {
   "cell_type": "code",
   "execution_count": 7,
   "id": "c96d3fdd",
   "metadata": {},
   "outputs": [
    {
     "data": {
      "text/html": [
       "<div>\n",
       "<style scoped>\n",
       "    .dataframe tbody tr th:only-of-type {\n",
       "        vertical-align: middle;\n",
       "    }\n",
       "\n",
       "    .dataframe tbody tr th {\n",
       "        vertical-align: top;\n",
       "    }\n",
       "\n",
       "    .dataframe thead th {\n",
       "        text-align: right;\n",
       "    }\n",
       "</style>\n",
       "<table border=\"1\" class=\"dataframe\">\n",
       "  <thead>\n",
       "    <tr style=\"text-align: right;\">\n",
       "      <th></th>\n",
       "      <th>id</th>\n",
       "      <th>subreddit</th>\n",
       "      <th>created_date</th>\n",
       "      <th>context</th>\n",
       "      <th>is_violation</th>\n",
       "      <th>violation</th>\n",
       "      <th>sentence</th>\n",
       "      <th>final_sentences</th>\n",
       "      <th>final_context</th>\n",
       "    </tr>\n",
       "  </thead>\n",
       "  <tbody>\n",
       "    <tr>\n",
       "      <th>0</th>\n",
       "      <td>qdole</td>\n",
       "      <td>Conservative</td>\n",
       "      <td>2012-03-01 23:59:45</td>\n",
       "      <td>['[\"The hypocrisy is interesting to watch, tha...</td>\n",
       "      <td>Yes</td>\n",
       "      <td>harrassment</td>\n",
       "      <td>\"OP, you're a complete moron and an embarrass...</td>\n",
       "      <td>[\", O, ##P, ,, you, ', re, a, complete, m, ##o...</td>\n",
       "      <td>[[, ', [, \", The, h, ##y, ##po, ##c, ##ris, ##...</td>\n",
       "    </tr>\n",
       "    <tr>\n",
       "      <th>1</th>\n",
       "      <td>qdole</td>\n",
       "      <td>Conservative</td>\n",
       "      <td>2012-03-01 23:59:45</td>\n",
       "      <td>['[\"The hypocrisy is interesting to watch, tha...</td>\n",
       "      <td>No</td>\n",
       "      <td>No Violations</td>\n",
       "      <td>\"Irrational hate of something they don't unde...</td>\n",
       "      <td>[\", I, ##rra, ##tional, hate, of, something, t...</td>\n",
       "      <td>[[, ', [, \", The, h, ##y, ##po, ##c, ##ris, ##...</td>\n",
       "    </tr>\n",
       "    <tr>\n",
       "      <th>2</th>\n",
       "      <td>qdole</td>\n",
       "      <td>Conservative</td>\n",
       "      <td>2012-03-01 23:59:45</td>\n",
       "      <td>['[\"The hypocrisy is interesting to watch, tha...</td>\n",
       "      <td>No</td>\n",
       "      <td>No Violations</td>\n",
       "      <td>\"Let me clarify this. I don't believe that an...</td>\n",
       "      <td>[\", Let, me, c, ##lar, ##ify, this, ., I, don,...</td>\n",
       "      <td>[[, ', [, \", The, h, ##y, ##po, ##c, ##ris, ##...</td>\n",
       "    </tr>\n",
       "    <tr>\n",
       "      <th>3</th>\n",
       "      <td>qdoi3</td>\n",
       "      <td>TeraOnline</td>\n",
       "      <td>2012-03-01 23:57:45</td>\n",
       "      <td>['[\"well i would say i want one because the ga...</td>\n",
       "      <td>No</td>\n",
       "      <td>No Violations</td>\n",
       "      <td>\"DAmnnit, woke up to find this xD I've preord...</td>\n",
       "      <td>[\", D, ##A, ##m, ##nn, ##it, ,, woke, up, to, ...</td>\n",
       "      <td>[[, ', [, \", well, i, would, say, i, want, one...</td>\n",
       "    </tr>\n",
       "    <tr>\n",
       "      <th>4</th>\n",
       "      <td>qdoi3</td>\n",
       "      <td>TeraOnline</td>\n",
       "      <td>2012-03-01 23:57:45</td>\n",
       "      <td>['[\"well i would say i want one because the ga...</td>\n",
       "      <td>No</td>\n",
       "      <td>No Violations</td>\n",
       "      <td>\"I would like to try TERA without waiting so ...</td>\n",
       "      <td>[\", I, would, like, to, try, T, ##ER, ##A, wit...</td>\n",
       "      <td>[[, ', [, \", well, i, would, say, i, want, one...</td>\n",
       "    </tr>\n",
       "  </tbody>\n",
       "</table>\n",
       "</div>"
      ],
      "text/plain": [
       "      id     subreddit         created_date  \\\n",
       "0  qdole  Conservative  2012-03-01 23:59:45   \n",
       "1  qdole  Conservative  2012-03-01 23:59:45   \n",
       "2  qdole  Conservative  2012-03-01 23:59:45   \n",
       "3  qdoi3    TeraOnline  2012-03-01 23:57:45   \n",
       "4  qdoi3    TeraOnline  2012-03-01 23:57:45   \n",
       "\n",
       "                                             context is_violation  \\\n",
       "0  ['[\"The hypocrisy is interesting to watch, tha...          Yes   \n",
       "1  ['[\"The hypocrisy is interesting to watch, tha...           No   \n",
       "2  ['[\"The hypocrisy is interesting to watch, tha...           No   \n",
       "3  ['[\"well i would say i want one because the ga...           No   \n",
       "4  ['[\"well i would say i want one because the ga...           No   \n",
       "\n",
       "       violation                                           sentence  \\\n",
       "0    harrassment   \"OP, you're a complete moron and an embarrass...   \n",
       "1  No Violations   \"Irrational hate of something they don't unde...   \n",
       "2  No Violations   \"Let me clarify this. I don't believe that an...   \n",
       "3  No Violations   \"DAmnnit, woke up to find this xD I've preord...   \n",
       "4  No Violations   \"I would like to try TERA without waiting so ...   \n",
       "\n",
       "                                     final_sentences  \\\n",
       "0  [\", O, ##P, ,, you, ', re, a, complete, m, ##o...   \n",
       "1  [\", I, ##rra, ##tional, hate, of, something, t...   \n",
       "2  [\", Let, me, c, ##lar, ##ify, this, ., I, don,...   \n",
       "3  [\", D, ##A, ##m, ##nn, ##it, ,, woke, up, to, ...   \n",
       "4  [\", I, would, like, to, try, T, ##ER, ##A, wit...   \n",
       "\n",
       "                                       final_context  \n",
       "0  [[, ', [, \", The, h, ##y, ##po, ##c, ##ris, ##...  \n",
       "1  [[, ', [, \", The, h, ##y, ##po, ##c, ##ris, ##...  \n",
       "2  [[, ', [, \", The, h, ##y, ##po, ##c, ##ris, ##...  \n",
       "3  [[, ', [, \", well, i, would, say, i, want, one...  \n",
       "4  [[, ', [, \", well, i, would, say, i, want, one...  "
      ]
     },
     "execution_count": 7,
     "metadata": {},
     "output_type": "execute_result"
    }
   ],
   "source": [
    "context=df['context']\n",
    "final_context=[]\n",
    "for i in context:\n",
    "    final_context.append(reddit_clean(i))\n",
    "df['final_context']=final_context  \n",
    "df.head()"
   ]
  },
  {
   "cell_type": "code",
   "execution_count": 8,
   "id": "c316fa51",
   "metadata": {},
   "outputs": [
    {
     "data": {
      "text/plain": [
       "45762"
      ]
     },
     "execution_count": 8,
     "metadata": {},
     "output_type": "execute_result"
    }
   ],
   "source": [
    "encoder = LabelEncoder()\n",
    "df[\"label\"]=encoder.fit_transform(df[\"violation\"])\n",
    "df['sentence']=df['context']+df['sentence']\n",
    "\n",
    "train_text, val_text, train_labels, val_labels = train_test_split(np.array(df['sentence']).flatten().tolist(), df['label'], \n",
    "                                                                    random_state=2018, \n",
    "                                                                    train_size=0.75, \n",
    "                                                                    stratify=df['label'])\n",
    "len(train_text)"
   ]
  },
  {
   "cell_type": "code",
   "execution_count": 9,
   "id": "c0bff00e",
   "metadata": {},
   "outputs": [
    {
     "name": "stderr",
     "output_type": "stream",
     "text": [
      "C:\\Users\\py22715\\.conda\\envs\\v38\\lib\\site-packages\\transformers\\tokenization_utils_base.py:2393: FutureWarning: The `pad_to_max_length` argument is deprecated and will be removed in a future version, use `padding=True` or `padding='longest'` to pad to the longest sequence in the batch, or use `padding='max_length'` to pad to a max length. In this case, you can give a specific length with `max_length` (e.g. `max_length=45`) or leave max_length to None to pad to the maximal input size of the model (e.g. 512 for Bert).\n",
      "  warnings.warn(\n"
     ]
    }
   ],
   "source": [
    "tokens_train = tokenizer.batch_encode_plus(\n",
    "   list(train_text),\n",
    "    max_length = 512,\n",
    "    pad_to_max_length=True,\n",
    "    truncation=True,\n",
    "    return_token_type_ids=False\n",
    ")\n",
    "\n",
    "# tokenize and encode sequences in the validation set\n",
    "tokens_val = tokenizer.batch_encode_plus(\n",
    "   list(val_text),\n",
    "    max_length = 512,\n",
    "    pad_to_max_length=True,\n",
    "    truncation=True,\n",
    "    return_token_type_ids=False\n",
    ")"
   ]
  },
  {
   "cell_type": "code",
   "execution_count": 10,
   "id": "3bd42f32",
   "metadata": {},
   "outputs": [],
   "source": [
    "train_seq = torch.tensor(tokens_train['input_ids'])\n",
    "train_mask = torch.tensor(tokens_train['attention_mask'])\n",
    "val_seq = torch.tensor(tokens_val['input_ids'])\n",
    "val_mask = torch.tensor(tokens_val['attention_mask'])"
   ]
  },
  {
   "cell_type": "code",
   "execution_count": 11,
   "id": "582d7144",
   "metadata": {},
   "outputs": [],
   "source": [
    "val_y = torch.tensor(list(val_labels))\n",
    "train_y = torch.tensor(train_labels.tolist())"
   ]
  },
  {
   "cell_type": "code",
   "execution_count": 12,
   "id": "687ce344",
   "metadata": {},
   "outputs": [],
   "source": [
    "bert = BertModel.from_pretrained(\"bert-base-cased\",return_dict=False)\n",
    "for param in bert.parameters():\n",
    "    param.requires_grad = False"
   ]
  },
  {
   "cell_type": "code",
   "execution_count": 13,
   "id": "867bb1d9",
   "metadata": {},
   "outputs": [],
   "source": [
    "import torch.nn as nn\n",
    "class BERT_Arch(nn.Module):\n",
    "    def __init__(self, bert,label_map):\n",
    "        super(BERT_Arch, self).__init__()\n",
    "        self.bert = bert \n",
    "      \n",
    "        # dropout layer\n",
    "        self.dropout = nn.Dropout(0.1)\n",
    "\n",
    "        # relu activation function\n",
    "        self.relu =  nn.ReLU()\n",
    "\n",
    "        # dense layer 1\n",
    "        self.fc1 = nn.Linear(768,512)\n",
    "\n",
    "        # dense layer 2 (Output layer)\n",
    "        self.fc2 = nn.Linear(512,len(label_map))\n",
    "\n",
    "        #softmax activation function\n",
    "        self.softmax = nn.LogSoftmax(dim=1)\n",
    "\n",
    "        #define the forward pass\n",
    "    def forward(self, sent_id, mask):\n",
    "\n",
    "        #pass the inputs to the model  \n",
    "        _, cls_hs = self.bert(sent_id, attention_mask=mask)\n",
    "\n",
    "        x = self.fc1(cls_hs)\n",
    "\n",
    "        x = self.relu(x)\n",
    "\n",
    "        x = self.dropout(x)\n",
    "\n",
    "        # output layer\n",
    "        x = self.fc2(x)\n",
    "\n",
    "        # apply softmax activation\n",
    "        x = self.softmax(x)\n",
    "        return x"
   ]
  },
  {
   "cell_type": "code",
   "execution_count": 14,
   "id": "03e5cce5",
   "metadata": {},
   "outputs": [],
   "source": [
    "label_map=le_name_mapping = dict(zip(encoder.classes_, encoder.transform(encoder.classes_)))\n",
    "model = BERT_Arch(bert,label_map)\n",
    "\n",
    "# push the model to GPU\n",
    "device = torch.device('cuda:0' if torch.cuda.is_available() else 'cpu')\n",
    "model = model.to(device)"
   ]
  },
  {
   "cell_type": "code",
   "execution_count": 15,
   "id": "d591005b",
   "metadata": {},
   "outputs": [
    {
     "name": "stderr",
     "output_type": "stream",
     "text": [
      "C:\\Users\\py22715\\.conda\\envs\\v38\\lib\\site-packages\\transformers\\optimization.py:411: FutureWarning: This implementation of AdamW is deprecated and will be removed in a future version. Use the PyTorch implementation torch.optim.AdamW instead, or set `no_deprecation_warning=True` to disable this warning\n",
      "  warnings.warn(\n"
     ]
    }
   ],
   "source": [
    "from transformers import AdamW\n",
    "\n",
    "# define the optimizer\n",
    "optimizer = AdamW(model.parameters(), lr = 1e-5)\n",
    "loss_func = torch.nn.CrossEntropyLoss()\n",
    "epochs = 5\n",
    "batch=16"
   ]
  },
  {
   "cell_type": "code",
   "execution_count": 16,
   "id": "b8120770",
   "metadata": {},
   "outputs": [],
   "source": [
    "def train():\n",
    "    model.train()\n",
    "\n",
    "    total_loss, total_accuracy = 0, 0\n",
    "  \n",
    "    # empty list to save model predictions\n",
    "    total_preds=[]\n",
    "    total_labels =[]\n",
    "  \n",
    "    # iterate over batches\n",
    "    for step,batch in tenumerate(train_dataloader):\n",
    "    \n",
    "        # progress update after every 50 batches.\n",
    "        if step % 5000 == 0 and not step == 0:\n",
    "            print('  Batch {:>5,}  of  {:>5,}.'.format(step, len(train_dataloader)))\n",
    "        batch = [r.to(device) for r in batch]\n",
    "\n",
    "        sent_id, mask, labels = batch\n",
    "        model.zero_grad()        \n",
    "        preds = model(sent_id,mask)\n",
    "        loss = loss_func(preds, labels)\n",
    "        total_loss = total_loss + loss.item()\n",
    "\n",
    "        loss.backward()\n",
    "\n",
    "        # clip the the gradients to 1.0. It helps in preventing the exploding gradient problem\n",
    "        torch.nn.utils.clip_grad_norm_(model.parameters(), 1.0)\n",
    "\n",
    "        # update parameters\n",
    "        optimizer.step()\n",
    "\n",
    "        # model predictions are stored on GPU. So, push it to CPU\n",
    "        preds = preds.detach().cpu().numpy()\n",
    "        preds = np.argmax(preds, axis=1)\n",
    "        # append the model predictions\n",
    "        total_preds+=list(preds)\n",
    "        total_labels+=labels.tolist()\n",
    "\n",
    "    # compute the training loss of the epoch\n",
    "    avg_loss = total_loss / len(train_dataloader)\n",
    "\n",
    "    # predictions are in the form of (no. of batches, size of batch, no. of classes).\n",
    "    # reshape the predictions in form of (number of samples, no. of classes)\n",
    "    #total_preds  = np.concatenate(total_preds, axis=0)\n",
    "    f1 = f1_score(total_labels, total_preds, average='micro')\n",
    "    #returns the loss and predictions\n",
    "    return avg_loss, f1"
   ]
  },
  {
   "cell_type": "code",
   "execution_count": 17,
   "id": "5f15c0cd",
   "metadata": {},
   "outputs": [],
   "source": [
    "def evaluate():\n",
    "  \n",
    "    print(\"\\nEvaluating...\")\n",
    "\n",
    "    # deactivate dropout layers\n",
    "    model.eval()\n",
    "\n",
    "    total_loss, total_accuracy = 0, 0\n",
    "\n",
    "    # empty list to save the model predictions\n",
    "    total_preds = []\n",
    "    total_labels = []\n",
    "    # iterate over batches\n",
    "    for step,batch in tenumerate(val_dataloader):\n",
    "    \n",
    "        # Progress update every 50 batches.\n",
    "        if step % 5000 == 0 and not step == 0:\n",
    "\n",
    "          # Calculate elapsed time in minutes.\n",
    "          #elapsed = format_time(time.time() - t0)\n",
    "\n",
    "          # Report progress.\n",
    "          print('  Batch {:>5,}  of  {:>5,}.'.format(step, len(val_dataloader)))\n",
    "\n",
    "        # push the batch to gpu\n",
    "        batch = [t.to(device) for t in batch]\n",
    "\n",
    "        sent_id, mask, labels = batch\n",
    "\n",
    "        # deactivate autograd\n",
    "        with torch.no_grad():\n",
    "\n",
    "            # model predictions\n",
    "            preds = model(sent_id, mask)\n",
    "\n",
    "            # compute the validation loss between actual and predicted values\n",
    "            loss = loss_func(preds,labels)\n",
    "\n",
    "            total_loss = total_loss + loss.item()\n",
    "\n",
    "            preds = preds.detach().cpu().numpy()\n",
    "            preds = np.argmax(preds, axis=1)\n",
    "            total_preds+=list(preds)\n",
    "            total_labels+=labels.tolist()\n",
    "    # compute the validation loss of the epoch\n",
    "    avg_loss = total_loss / len(val_dataloader) \n",
    "\n",
    "    # reshape the predictions in form of (number of samples, no. of classes)\n",
    "    #total_preds  = np.concatenate(total_preds, axis=0)\n",
    "    \n",
    "    f1 = f1_score(total_labels, total_preds, average='micro')\n",
    "    return avg_loss, f1"
   ]
  },
  {
   "cell_type": "code",
   "execution_count": 18,
   "id": "18453f91",
   "metadata": {},
   "outputs": [
    {
     "name": "stdout",
     "output_type": "stream",
     "text": [
      "45762\n"
     ]
    }
   ],
   "source": [
    "from torch.utils.data import TensorDataset, DataLoader, RandomSampler, SequentialSampler\n",
    "\n",
    "#define a batch size\n",
    "batch_size = 16\n",
    "\n",
    "# wrap tensors\n",
    "train_data = TensorDataset(train_seq, train_mask, train_y)\n",
    "\n",
    "# sampler for sampling the data during training\n",
    "train_sampler = RandomSampler(train_data)\n",
    "\n",
    "# dataLoader for train set\n",
    "train_dataloader = DataLoader(train_data)\n",
    "\n",
    "# wrap tensors\n",
    "val_data = TensorDataset(val_seq, val_mask, val_y)\n",
    "\n",
    "# sampler for sampling the data during training\n",
    "val_sampler = SequentialSampler(val_data)\n",
    "\n",
    "# dataLoader for validation set\n",
    "val_dataloader = DataLoader(val_data)\n",
    "print(len(train_dataloader))"
   ]
  },
  {
   "cell_type": "code",
   "execution_count": 20,
   "id": "f7222463",
   "metadata": {},
   "outputs": [
    {
     "name": "stdout",
     "output_type": "stream",
     "text": [
      "\n",
      " Epoch 1 / 5\n"
     ]
    },
    {
     "name": "stderr",
     "output_type": "stream",
     "text": [
      " 11%|█         | 5004/45762 [03:21<27:21, 24.83it/s]"
     ]
    },
    {
     "name": "stdout",
     "output_type": "stream",
     "text": [
      "  Batch 5,000  of  45,762.\n"
     ]
    },
    {
     "name": "stderr",
     "output_type": "stream",
     "text": [
      " 22%|██▏       | 10005/45762 [06:41<24:04, 24.76it/s]"
     ]
    },
    {
     "name": "stdout",
     "output_type": "stream",
     "text": [
      "  Batch 10,000  of  45,762.\n"
     ]
    },
    {
     "name": "stderr",
     "output_type": "stream",
     "text": [
      " 33%|███▎      | 15003/45762 [10:01<20:28, 25.04it/s]"
     ]
    },
    {
     "name": "stdout",
     "output_type": "stream",
     "text": [
      "  Batch 15,000  of  45,762.\n"
     ]
    },
    {
     "name": "stderr",
     "output_type": "stream",
     "text": [
      " 44%|████▎     | 20004/45762 [13:21<17:20, 24.76it/s]"
     ]
    },
    {
     "name": "stdout",
     "output_type": "stream",
     "text": [
      "  Batch 20,000  of  45,762.\n"
     ]
    },
    {
     "name": "stderr",
     "output_type": "stream",
     "text": [
      " 55%|█████▍    | 25002/45762 [16:41<13:42, 25.23it/s]"
     ]
    },
    {
     "name": "stdout",
     "output_type": "stream",
     "text": [
      "  Batch 25,000  of  45,762.\n"
     ]
    },
    {
     "name": "stderr",
     "output_type": "stream",
     "text": [
      " 66%|██████▌   | 30003/45762 [20:03<10:36, 24.75it/s]"
     ]
    },
    {
     "name": "stdout",
     "output_type": "stream",
     "text": [
      "  Batch 30,000  of  45,762.\n"
     ]
    },
    {
     "name": "stderr",
     "output_type": "stream",
     "text": [
      " 76%|███████▋  | 35004/45762 [23:23<07:06, 25.23it/s]"
     ]
    },
    {
     "name": "stdout",
     "output_type": "stream",
     "text": [
      "  Batch 35,000  of  45,762.\n"
     ]
    },
    {
     "name": "stderr",
     "output_type": "stream",
     "text": [
      " 87%|████████▋ | 40005/45762 [26:44<03:49, 25.06it/s]"
     ]
    },
    {
     "name": "stdout",
     "output_type": "stream",
     "text": [
      "  Batch 40,000  of  45,762.\n"
     ]
    },
    {
     "name": "stderr",
     "output_type": "stream",
     "text": [
      " 98%|█████████▊| 45003/45762 [30:04<00:30, 24.77it/s]"
     ]
    },
    {
     "name": "stdout",
     "output_type": "stream",
     "text": [
      "  Batch 45,000  of  45,762.\n"
     ]
    },
    {
     "name": "stderr",
     "output_type": "stream",
     "text": [
      "100%|██████████| 45762/45762 [30:34<00:00, 24.94it/s]\n"
     ]
    },
    {
     "name": "stdout",
     "output_type": "stream",
     "text": [
      "Training loss and F1\n",
      "1.910579565011354\n",
      "0.5545867750535378\n",
      "\n",
      "Evaluating...\n"
     ]
    },
    {
     "name": "stderr",
     "output_type": "stream",
     "text": [
      " 33%|███▎      | 5006/15254 [03:00<06:12, 27.50it/s]"
     ]
    },
    {
     "name": "stdout",
     "output_type": "stream",
     "text": [
      "  Batch 5,000  of  15,254.\n"
     ]
    },
    {
     "name": "stderr",
     "output_type": "stream",
     "text": [
      " 66%|██████▌   | 10004/15254 [06:00<03:08, 27.83it/s]"
     ]
    },
    {
     "name": "stdout",
     "output_type": "stream",
     "text": [
      "  Batch 10,000  of  15,254.\n"
     ]
    },
    {
     "name": "stderr",
     "output_type": "stream",
     "text": [
      " 98%|█████████▊| 15005/15254 [09:00<00:08, 27.77it/s]"
     ]
    },
    {
     "name": "stdout",
     "output_type": "stream",
     "text": [
      "  Batch 15,000  of  15,254.\n"
     ]
    },
    {
     "name": "stderr",
     "output_type": "stream",
     "text": [
      "100%|██████████| 15254/15254 [09:09<00:00, 27.74it/s]\n"
     ]
    },
    {
     "name": "stdout",
     "output_type": "stream",
     "text": [
      "Training loss and F1\n",
      "1.910579565011354\n",
      "0.5545867750535378\n",
      "\n",
      "Training Loss: 1.911\n",
      "Validation Loss: 1.852\n",
      "\n",
      "Training F1: 0.555\n",
      "Validation F1: 0.555\n",
      "\n",
      " Epoch 2 / 5\n"
     ]
    },
    {
     "name": "stderr",
     "output_type": "stream",
     "text": [
      " 11%|█         | 5004/45762 [03:21<27:32, 24.66it/s]"
     ]
    },
    {
     "name": "stdout",
     "output_type": "stream",
     "text": [
      "  Batch 5,000  of  45,762.\n"
     ]
    },
    {
     "name": "stderr",
     "output_type": "stream",
     "text": [
      " 22%|██▏       | 10005/45762 [06:43<24:09, 24.68it/s]"
     ]
    },
    {
     "name": "stdout",
     "output_type": "stream",
     "text": [
      "  Batch 10,000  of  45,762.\n"
     ]
    },
    {
     "name": "stderr",
     "output_type": "stream",
     "text": [
      " 33%|███▎      | 15003/45762 [10:04<20:41, 24.77it/s]"
     ]
    },
    {
     "name": "stdout",
     "output_type": "stream",
     "text": [
      "  Batch 15,000  of  45,762.\n"
     ]
    },
    {
     "name": "stderr",
     "output_type": "stream",
     "text": [
      " 44%|████▎     | 20004/45762 [13:25<17:25, 24.64it/s]"
     ]
    },
    {
     "name": "stdout",
     "output_type": "stream",
     "text": [
      "  Batch 20,000  of  45,762.\n"
     ]
    },
    {
     "name": "stderr",
     "output_type": "stream",
     "text": [
      " 55%|█████▍    | 25005/45762 [16:45<13:49, 25.02it/s]"
     ]
    },
    {
     "name": "stdout",
     "output_type": "stream",
     "text": [
      "  Batch 25,000  of  45,762.\n"
     ]
    },
    {
     "name": "stderr",
     "output_type": "stream",
     "text": [
      " 66%|██████▌   | 30003/45762 [20:06<10:40, 24.62it/s]"
     ]
    },
    {
     "name": "stdout",
     "output_type": "stream",
     "text": [
      "  Batch 30,000  of  45,762.\n"
     ]
    },
    {
     "name": "stderr",
     "output_type": "stream",
     "text": [
      " 76%|███████▋  | 35004/45762 [23:28<07:16, 24.66it/s]"
     ]
    },
    {
     "name": "stdout",
     "output_type": "stream",
     "text": [
      "  Batch 35,000  of  45,762.\n"
     ]
    },
    {
     "name": "stderr",
     "output_type": "stream",
     "text": [
      " 87%|████████▋ | 40002/45762 [26:50<03:54, 24.51it/s]"
     ]
    },
    {
     "name": "stdout",
     "output_type": "stream",
     "text": [
      "  Batch 40,000  of  45,762.\n"
     ]
    },
    {
     "name": "stderr",
     "output_type": "stream",
     "text": [
      " 98%|█████████▊| 45003/45762 [30:11<00:30, 24.67it/s]"
     ]
    },
    {
     "name": "stdout",
     "output_type": "stream",
     "text": [
      "  Batch 45,000  of  45,762.\n"
     ]
    },
    {
     "name": "stderr",
     "output_type": "stream",
     "text": [
      "100%|██████████| 45762/45762 [30:42<00:00, 24.84it/s]\n"
     ]
    },
    {
     "name": "stdout",
     "output_type": "stream",
     "text": [
      "Training loss and F1\n",
      "1.848555727353987\n",
      "0.5545867750535378\n",
      "\n",
      "Evaluating...\n"
     ]
    },
    {
     "name": "stderr",
     "output_type": "stream",
     "text": [
      " 33%|███▎      | 5003/15254 [03:00<06:10, 27.66it/s]"
     ]
    },
    {
     "name": "stdout",
     "output_type": "stream",
     "text": [
      "  Batch 5,000  of  15,254.\n"
     ]
    },
    {
     "name": "stderr",
     "output_type": "stream",
     "text": [
      " 66%|██████▌   | 10004/15254 [06:00<03:09, 27.68it/s]"
     ]
    },
    {
     "name": "stdout",
     "output_type": "stream",
     "text": [
      "  Batch 10,000  of  15,254.\n"
     ]
    },
    {
     "name": "stderr",
     "output_type": "stream",
     "text": [
      " 98%|█████████▊| 15005/15254 [09:00<00:09, 27.66it/s]"
     ]
    },
    {
     "name": "stdout",
     "output_type": "stream",
     "text": [
      "  Batch 15,000  of  15,254.\n"
     ]
    },
    {
     "name": "stderr",
     "output_type": "stream",
     "text": [
      "100%|██████████| 15254/15254 [09:09<00:00, 27.76it/s]\n"
     ]
    },
    {
     "name": "stdout",
     "output_type": "stream",
     "text": [
      "Training loss and F1\n",
      "1.848555727353987\n",
      "0.5545867750535378\n",
      "\n",
      "Training Loss: 1.849\n",
      "Validation Loss: 1.759\n",
      "\n",
      "Training F1: 0.555\n",
      "Validation F1: 0.555\n",
      "\n",
      " Epoch 3 / 5\n"
     ]
    },
    {
     "name": "stderr",
     "output_type": "stream",
     "text": [
      " 11%|█         | 5004/45762 [03:20<27:32, 24.67it/s]"
     ]
    },
    {
     "name": "stdout",
     "output_type": "stream",
     "text": [
      "  Batch 5,000  of  45,762.\n"
     ]
    },
    {
     "name": "stderr",
     "output_type": "stream",
     "text": [
      " 22%|██▏       | 10005/45762 [06:41<23:33, 25.29it/s]"
     ]
    },
    {
     "name": "stdout",
     "output_type": "stream",
     "text": [
      "  Batch 10,000  of  45,762.\n"
     ]
    },
    {
     "name": "stderr",
     "output_type": "stream",
     "text": [
      " 33%|███▎      | 15003/45762 [10:01<20:51, 24.57it/s]"
     ]
    },
    {
     "name": "stdout",
     "output_type": "stream",
     "text": [
      "  Batch 15,000  of  45,762.\n"
     ]
    },
    {
     "name": "stderr",
     "output_type": "stream",
     "text": [
      " 44%|████▎     | 20004/45762 [13:22<17:06, 25.08it/s]"
     ]
    },
    {
     "name": "stdout",
     "output_type": "stream",
     "text": [
      "  Batch 20,000  of  45,762.\n"
     ]
    },
    {
     "name": "stderr",
     "output_type": "stream",
     "text": [
      " 55%|█████▍    | 25005/45762 [16:43<14:08, 24.47it/s]"
     ]
    },
    {
     "name": "stdout",
     "output_type": "stream",
     "text": [
      "  Batch 25,000  of  45,762.\n"
     ]
    },
    {
     "name": "stderr",
     "output_type": "stream",
     "text": [
      " 66%|██████▌   | 30003/45762 [20:03<10:36, 24.76it/s]"
     ]
    },
    {
     "name": "stdout",
     "output_type": "stream",
     "text": [
      "  Batch 30,000  of  45,762.\n"
     ]
    },
    {
     "name": "stderr",
     "output_type": "stream",
     "text": [
      " 76%|███████▋  | 35004/45762 [23:24<07:06, 25.24it/s]"
     ]
    },
    {
     "name": "stdout",
     "output_type": "stream",
     "text": [
      "  Batch 35,000  of  45,762.\n"
     ]
    },
    {
     "name": "stderr",
     "output_type": "stream",
     "text": [
      " 87%|████████▋ | 40005/45762 [26:44<03:52, 24.78it/s]"
     ]
    },
    {
     "name": "stdout",
     "output_type": "stream",
     "text": [
      "  Batch 40,000  of  45,762.\n"
     ]
    },
    {
     "name": "stderr",
     "output_type": "stream",
     "text": [
      " 98%|█████████▊| 45003/45762 [30:04<00:30, 24.89it/s]"
     ]
    },
    {
     "name": "stdout",
     "output_type": "stream",
     "text": [
      "  Batch 45,000  of  45,762.\n"
     ]
    },
    {
     "name": "stderr",
     "output_type": "stream",
     "text": [
      "100%|██████████| 45762/45762 [30:34<00:00, 24.94it/s]\n"
     ]
    },
    {
     "name": "stdout",
     "output_type": "stream",
     "text": [
      "Training loss and F1\n",
      "1.7798870769986073\n",
      "0.5545867750535378\n",
      "\n",
      "Evaluating...\n"
     ]
    },
    {
     "name": "stderr",
     "output_type": "stream",
     "text": [
      " 33%|███▎      | 5005/15254 [03:00<06:07, 27.89it/s]"
     ]
    },
    {
     "name": "stdout",
     "output_type": "stream",
     "text": [
      "  Batch 5,000  of  15,254.\n"
     ]
    },
    {
     "name": "stderr",
     "output_type": "stream",
     "text": [
      " 66%|██████▌   | 10003/15254 [06:00<03:10, 27.62it/s]"
     ]
    },
    {
     "name": "stdout",
     "output_type": "stream",
     "text": [
      "  Batch 10,000  of  15,254.\n"
     ]
    },
    {
     "name": "stderr",
     "output_type": "stream",
     "text": [
      " 98%|█████████▊| 15004/15254 [09:00<00:09, 27.58it/s]"
     ]
    },
    {
     "name": "stdout",
     "output_type": "stream",
     "text": [
      "  Batch 15,000  of  15,254.\n"
     ]
    },
    {
     "name": "stderr",
     "output_type": "stream",
     "text": [
      "100%|██████████| 15254/15254 [09:09<00:00, 27.74it/s]\n"
     ]
    },
    {
     "name": "stdout",
     "output_type": "stream",
     "text": [
      "Training loss and F1\n",
      "1.7798870769986073\n",
      "0.5545867750535378\n",
      "\n",
      "Training Loss: 1.780\n",
      "Validation Loss: 1.671\n",
      "\n",
      "Training F1: 0.555\n",
      "Validation F1: 0.555\n",
      "\n",
      " Epoch 4 / 5\n"
     ]
    },
    {
     "name": "stderr",
     "output_type": "stream",
     "text": [
      " 11%|█         | 5004/45762 [03:21<27:21, 24.82it/s]"
     ]
    },
    {
     "name": "stdout",
     "output_type": "stream",
     "text": [
      "  Batch 5,000  of  45,762.\n"
     ]
    },
    {
     "name": "stderr",
     "output_type": "stream",
     "text": [
      " 22%|██▏       | 10005/45762 [06:41<24:03, 24.77it/s]"
     ]
    },
    {
     "name": "stdout",
     "output_type": "stream",
     "text": [
      "  Batch 10,000  of  45,762.\n"
     ]
    },
    {
     "name": "stderr",
     "output_type": "stream",
     "text": [
      " 33%|███▎      | 15003/45762 [10:02<20:44, 24.71it/s]"
     ]
    },
    {
     "name": "stdout",
     "output_type": "stream",
     "text": [
      "  Batch 15,000  of  45,762.\n"
     ]
    },
    {
     "name": "stderr",
     "output_type": "stream",
     "text": [
      " 44%|████▎     | 20004/45762 [13:22<16:51, 25.47it/s]"
     ]
    },
    {
     "name": "stdout",
     "output_type": "stream",
     "text": [
      "  Batch 20,000  of  45,762.\n"
     ]
    },
    {
     "name": "stderr",
     "output_type": "stream",
     "text": [
      " 55%|█████▍    | 25005/45762 [16:43<14:03, 24.60it/s]"
     ]
    },
    {
     "name": "stdout",
     "output_type": "stream",
     "text": [
      "  Batch 25,000  of  45,762.\n"
     ]
    },
    {
     "name": "stderr",
     "output_type": "stream",
     "text": [
      " 66%|██████▌   | 30003/45762 [20:03<10:40, 24.59it/s]"
     ]
    },
    {
     "name": "stdout",
     "output_type": "stream",
     "text": [
      "  Batch 30,000  of  45,762.\n"
     ]
    },
    {
     "name": "stderr",
     "output_type": "stream",
     "text": [
      " 76%|███████▋  | 35004/45762 [23:24<07:04, 25.37it/s]"
     ]
    },
    {
     "name": "stdout",
     "output_type": "stream",
     "text": [
      "  Batch 35,000  of  45,762.\n"
     ]
    },
    {
     "name": "stderr",
     "output_type": "stream",
     "text": [
      " 87%|████████▋ | 40005/45762 [26:45<03:52, 24.77it/s]"
     ]
    },
    {
     "name": "stdout",
     "output_type": "stream",
     "text": [
      "  Batch 40,000  of  45,762.\n"
     ]
    },
    {
     "name": "stderr",
     "output_type": "stream",
     "text": [
      " 98%|█████████▊| 45003/45762 [30:06<00:30, 24.65it/s]"
     ]
    },
    {
     "name": "stdout",
     "output_type": "stream",
     "text": [
      "  Batch 45,000  of  45,762.\n"
     ]
    },
    {
     "name": "stderr",
     "output_type": "stream",
     "text": [
      "100%|██████████| 45762/45762 [30:37<00:00, 24.91it/s]\n"
     ]
    },
    {
     "name": "stdout",
     "output_type": "stream",
     "text": [
      "Training loss and F1\n",
      "1.7128670488331388\n",
      "0.5547178882041869\n",
      "\n",
      "Evaluating...\n"
     ]
    },
    {
     "name": "stderr",
     "output_type": "stream",
     "text": [
      " 33%|███▎      | 5004/15254 [03:00<06:12, 27.54it/s]"
     ]
    },
    {
     "name": "stdout",
     "output_type": "stream",
     "text": [
      "  Batch 5,000  of  15,254.\n"
     ]
    },
    {
     "name": "stderr",
     "output_type": "stream",
     "text": [
      " 66%|██████▌   | 10005/15254 [06:00<03:09, 27.74it/s]"
     ]
    },
    {
     "name": "stdout",
     "output_type": "stream",
     "text": [
      "  Batch 10,000  of  15,254.\n"
     ]
    },
    {
     "name": "stderr",
     "output_type": "stream",
     "text": [
      " 98%|█████████▊| 15003/15254 [09:00<00:09, 27.67it/s]"
     ]
    },
    {
     "name": "stdout",
     "output_type": "stream",
     "text": [
      "  Batch 15,000  of  15,254.\n"
     ]
    },
    {
     "name": "stderr",
     "output_type": "stream",
     "text": [
      "100%|██████████| 15254/15254 [09:09<00:00, 27.75it/s]\n"
     ]
    },
    {
     "name": "stdout",
     "output_type": "stream",
     "text": [
      "Training loss and F1\n",
      "1.7128670488331388\n",
      "0.5547178882041869\n",
      "\n",
      "Training Loss: 1.713\n",
      "Validation Loss: 1.655\n",
      "\n",
      "Training F1: 0.555\n",
      "Validation F1: 0.555\n",
      "\n",
      " Epoch 5 / 5\n"
     ]
    },
    {
     "name": "stderr",
     "output_type": "stream",
     "text": [
      " 11%|█         | 5004/45762 [03:21<27:38, 24.57it/s]"
     ]
    },
    {
     "name": "stdout",
     "output_type": "stream",
     "text": [
      "  Batch 5,000  of  45,762.\n"
     ]
    },
    {
     "name": "stderr",
     "output_type": "stream",
     "text": [
      " 22%|██▏       | 10002/45762 [06:43<24:13, 24.60it/s]"
     ]
    },
    {
     "name": "stdout",
     "output_type": "stream",
     "text": [
      "  Batch 10,000  of  45,762.\n"
     ]
    },
    {
     "name": "stderr",
     "output_type": "stream",
     "text": [
      " 33%|███▎      | 15003/45762 [10:05<20:49, 24.63it/s]"
     ]
    },
    {
     "name": "stdout",
     "output_type": "stream",
     "text": [
      "  Batch 15,000  of  45,762.\n"
     ]
    },
    {
     "name": "stderr",
     "output_type": "stream",
     "text": [
      " 44%|████▎     | 20004/45762 [13:26<16:55, 25.36it/s]"
     ]
    },
    {
     "name": "stdout",
     "output_type": "stream",
     "text": [
      "  Batch 20,000  of  45,762.\n"
     ]
    },
    {
     "name": "stderr",
     "output_type": "stream",
     "text": [
      " 55%|█████▍    | 25002/45762 [16:47<13:46, 25.11it/s]"
     ]
    },
    {
     "name": "stdout",
     "output_type": "stream",
     "text": [
      "  Batch 25,000  of  45,762.\n"
     ]
    },
    {
     "name": "stderr",
     "output_type": "stream",
     "text": [
      " 66%|██████▌   | 30003/45762 [20:07<10:28, 25.07it/s]"
     ]
    },
    {
     "name": "stdout",
     "output_type": "stream",
     "text": [
      "  Batch 30,000  of  45,762.\n"
     ]
    },
    {
     "name": "stderr",
     "output_type": "stream",
     "text": [
      " 76%|███████▋  | 35004/45762 [23:26<07:08, 25.13it/s]"
     ]
    },
    {
     "name": "stdout",
     "output_type": "stream",
     "text": [
      "  Batch 35,000  of  45,762.\n"
     ]
    },
    {
     "name": "stderr",
     "output_type": "stream",
     "text": [
      " 87%|████████▋ | 40005/45762 [26:47<03:50, 24.95it/s]"
     ]
    },
    {
     "name": "stdout",
     "output_type": "stream",
     "text": [
      "  Batch 40,000  of  45,762.\n"
     ]
    },
    {
     "name": "stderr",
     "output_type": "stream",
     "text": [
      " 98%|█████████▊| 45003/45762 [30:07<00:30, 25.30it/s]"
     ]
    },
    {
     "name": "stdout",
     "output_type": "stream",
     "text": [
      "  Batch 45,000  of  45,762.\n"
     ]
    },
    {
     "name": "stderr",
     "output_type": "stream",
     "text": [
      "100%|██████████| 45762/45762 [30:37<00:00, 24.90it/s]\n"
     ]
    },
    {
     "name": "stdout",
     "output_type": "stream",
     "text": [
      "Training loss and F1\n",
      "1.6495148953917698\n",
      "0.5551549320396836\n",
      "\n",
      "Evaluating...\n"
     ]
    },
    {
     "name": "stderr",
     "output_type": "stream",
     "text": [
      " 33%|███▎      | 5003/15254 [03:00<06:09, 27.74it/s]"
     ]
    },
    {
     "name": "stdout",
     "output_type": "stream",
     "text": [
      "  Batch 5,000  of  15,254.\n"
     ]
    },
    {
     "name": "stderr",
     "output_type": "stream",
     "text": [
      " 66%|██████▌   | 10004/15254 [06:00<03:09, 27.75it/s]"
     ]
    },
    {
     "name": "stdout",
     "output_type": "stream",
     "text": [
      "  Batch 10,000  of  15,254.\n"
     ]
    },
    {
     "name": "stderr",
     "output_type": "stream",
     "text": [
      " 98%|█████████▊| 15005/15254 [09:00<00:08, 27.69it/s]"
     ]
    },
    {
     "name": "stdout",
     "output_type": "stream",
     "text": [
      "  Batch 15,000  of  15,254.\n"
     ]
    },
    {
     "name": "stderr",
     "output_type": "stream",
     "text": [
      "100%|██████████| 15254/15254 [09:09<00:00, 27.78it/s]"
     ]
    },
    {
     "name": "stdout",
     "output_type": "stream",
     "text": [
      "Training loss and F1\n",
      "1.6495148953917698\n",
      "0.5551549320396836\n",
      "\n",
      "Training Loss: 1.650\n",
      "Validation Loss: 1.524\n",
      "\n",
      "Training F1: 0.555\n",
      "Validation F1: 0.555\n"
     ]
    },
    {
     "name": "stderr",
     "output_type": "stream",
     "text": [
      "\n"
     ]
    }
   ],
   "source": [
    "import numpy as np\n",
    "best_valid_loss = float('inf')\n",
    "\n",
    "# empty lists to store training and validation loss of each epoch\n",
    "train_losses=[]\n",
    "valid_losses=[]\n",
    "\n",
    "#for each epoch\n",
    "for epoch in range(epochs):\n",
    "     \n",
    "    print('\\n Epoch {:} / {:}'.format(epoch + 1, epochs))\n",
    "    \n",
    "    #train model\n",
    "    train_loss, f1_train = train()\n",
    "    print(\"Training loss and F1\")\n",
    "    print(train_loss)\n",
    "    print(f1_train)\n",
    "    #evaluate model\n",
    "    valid_loss, f1_valid = evaluate()\n",
    "    print(\"Training loss and F1\")\n",
    "    print(train_loss)\n",
    "    print(f1_train)\n",
    "    \n",
    "    #save the best model\n",
    "    if valid_loss < best_valid_loss:\n",
    "        best_valid_loss = valid_loss\n",
    "        file_name = 'topic_saved_weights.pt'\n",
    "        #save_checkpoint(file_name, epoch, model, optimizer, label_map, id2label)\n",
    "    \n",
    "    # append training and validation loss\n",
    "    train_losses.append(train_loss)\n",
    "    valid_losses.append(valid_loss)\n",
    "    \n",
    "    print(f'\\nTraining Loss: {train_loss:.3f}')\n",
    "    print(f'Validation Loss: {valid_loss:.3f}')\n",
    "    print(f'\\nTraining F1: {f1_train:.3f}')\n",
    "    print(f'Validation F1: {f1_valid:.3f}')"
   ]
  },
  {
   "cell_type": "code",
   "execution_count": null,
   "id": "440c9866",
   "metadata": {},
   "outputs": [],
   "source": []
  }
 ],
 "metadata": {
  "kernelspec": {
   "display_name": "Python 3 (ipykernel)",
   "language": "python",
   "name": "python3"
  },
  "language_info": {
   "codemirror_mode": {
    "name": "ipython",
    "version": 3
   },
   "file_extension": ".py",
   "mimetype": "text/x-python",
   "name": "python",
   "nbconvert_exporter": "python",
   "pygments_lexer": "ipython3",
   "version": "3.8.17"
  }
 },
 "nbformat": 4,
 "nbformat_minor": 5
}
