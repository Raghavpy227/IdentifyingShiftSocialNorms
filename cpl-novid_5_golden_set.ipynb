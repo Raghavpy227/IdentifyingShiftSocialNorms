{
 "cells": [
  {
   "cell_type": "code",
   "execution_count": 1,
   "id": "86512a11",
   "metadata": {
    "execution": {
     "iopub.execute_input": "2023-08-12T13:16:27.341543Z",
     "iopub.status.busy": "2023-08-12T13:16:27.341196Z",
     "iopub.status.idle": "2023-08-12T13:16:54.230850Z",
     "shell.execute_reply": "2023-08-12T13:16:54.229866Z",
     "shell.execute_reply.started": "2023-08-12T13:16:27.341514Z"
    }
   },
   "outputs": [
    {
     "name": "stderr",
     "output_type": "stream",
     "text": [
      "C:\\Users\\py22715\\.conda\\envs\\v38\\lib\\site-packages\\transformers\\generation_utils.py:24: FutureWarning: Importing `GenerationMixin` from `src/transformers/generation_utils.py` is deprecated and will be removed in Transformers v5. Import as `from transformers import GenerationMixin` instead.\n",
      "  warnings.warn(\n"
     ]
    }
   ],
   "source": [
    "\n",
    "import pandas as pd\n",
    "from openprompt.data_utils import InputExample\n",
    "import torch\n",
    "import os\n",
    "from sklearn.preprocessing import LabelEncoder\n",
    "from sklearn.metrics import balanced_accuracy_score,f1_score,classification_report\n",
    "from sklearn.model_selection import train_test_split\n",
    "from openprompt.config import get_config, save_config_to_yaml\n",
    "from tqdm.contrib import tenumerate"
   ]
  },
  {
   "cell_type": "code",
   "execution_count": 2,
   "id": "7a76a9f4",
   "metadata": {
    "execution": {
     "iopub.execute_input": "2023-08-12T13:16:54.233114Z",
     "iopub.status.busy": "2023-08-12T13:16:54.232767Z",
     "iopub.status.idle": "2023-08-12T13:17:00.364543Z",
     "shell.execute_reply": "2023-08-12T13:17:00.363489Z",
     "shell.execute_reply.started": "2023-08-12T13:16:54.233087Z"
    }
   },
   "outputs": [],
   "source": [
    "path=r\"C:\\Users\\py22715\\OneDrive - University of Bristol\\Documents\\Python Scripts\"\n",
    "df=pd.read_csv(os.path.join(path,\"golden_set2.csv\"))"
   ]
  },
  {
   "cell_type": "code",
   "execution_count": 3,
   "id": "4a274be9",
   "metadata": {
    "execution": {
     "iopub.execute_input": "2023-08-12T13:17:00.366980Z",
     "iopub.status.busy": "2023-08-12T13:17:00.366236Z",
     "iopub.status.idle": "2023-08-12T13:17:00.394685Z",
     "shell.execute_reply": "2023-08-12T13:17:00.393319Z",
     "shell.execute_reply.started": "2023-08-12T13:17:00.366942Z"
    }
   },
   "outputs": [
    {
     "name": "stdout",
     "output_type": "stream",
     "text": [
      "{'Homophobia': 0, 'Incivility': 1, 'No Violations': 2, 'harrassment': 3, 'racial_slur': 4}\n"
     ]
    }
   ],
   "source": [
    "classes = [ # There are two classes in Sentiment Analysis, one for negative and one for positive\n",
    "    \"racial_slur\",\n",
    "    \"self_harm\",\n",
    "    \"Homophobia\",\n",
    "    \"Incivility\",\n",
    "    \"harrassment\",\n",
    "    \"No Violations\"\n",
    "]\n",
    "\n",
    "encoder = LabelEncoder()\n",
    "df[\"label\"]=encoder.fit_transform(df[\"violation\"])\n",
    "\n",
    "le_name_mapping = dict(zip(encoder.classes_, encoder.transform(encoder.classes_)))\n",
    "\n",
    "print(le_name_mapping)\n",
    "\n"
   ]
  },
  {
   "cell_type": "code",
   "execution_count": 4,
   "id": "82e1c004",
   "metadata": {
    "execution": {
     "iopub.execute_input": "2023-08-12T13:17:00.398349Z",
     "iopub.status.busy": "2023-08-12T13:17:00.398049Z",
     "iopub.status.idle": "2023-08-12T13:17:09.617251Z",
     "shell.execute_reply": "2023-08-12T13:17:09.616245Z",
     "shell.execute_reply.started": "2023-08-12T13:17:00.398324Z"
    }
   },
   "outputs": [
    {
     "name": "stderr",
     "output_type": "stream",
     "text": [
      "Some weights of the model checkpoint at bert-base-cased were not used when initializing BertForMaskedLM: ['bert.pooler.dense.weight', 'cls.seq_relationship.bias', 'bert.pooler.dense.bias', 'cls.seq_relationship.weight']\n",
      "- This IS expected if you are initializing BertForMaskedLM from the checkpoint of a model trained on another task or with another architecture (e.g. initializing a BertForSequenceClassification model from a BertForPreTraining model).\n",
      "- This IS NOT expected if you are initializing BertForMaskedLM from the checkpoint of a model that you expect to be exactly identical (initializing a BertForSequenceClassification model from a BertForSequenceClassification model).\n"
     ]
    }
   ],
   "source": [
    "from openprompt.plms import load_plm\n",
    "from openprompt.lm_bff_trainer import LMBFFClassificationRunner,ClassificationRunner\n",
    "plm, tokenizer, model_config, WrapperClass = load_plm(\"bert\", \"bert-base-cased\")"
   ]
  },
  {
   "cell_type": "code",
   "execution_count": 5,
   "id": "bdebfaf8",
   "metadata": {
    "execution": {
     "iopub.execute_input": "2023-08-12T13:17:09.619092Z",
     "iopub.status.busy": "2023-08-12T13:17:09.618641Z",
     "iopub.status.idle": "2023-08-12T13:17:09.626259Z",
     "shell.execute_reply": "2023-08-12T13:17:09.625089Z",
     "shell.execute_reply.started": "2023-08-12T13:17:09.619056Z"
    }
   },
   "outputs": [],
   "source": [
    "from openprompt.prompts import ManualTemplate\n",
    "\n",
    "promptTemplate = ManualTemplate(\n",
    "    text = '{\"placeholder\":\"text_a\"} was the context for {\"placeholder\":\"text_b\"}, Which violation is it? {\"mask\"}' ,\n",
    "    tokenizer = tokenizer,\n",
    ")\n",
    "\n",
    "bad_words = {\n",
    "    \"racial_slur\": [\"nigga\",\"nigger\",\"uncle tom\",\"negro\",\"niggerhead\",\"house slave\",\"monkeyboy\"],\n",
    "    \"self_harm\": [\"kill yourself\", \"commit suicide\"],\n",
    "    \"Homophobia\":[\"lesbo\",\"faggot\",\"fag\",'cocksucker'],\n",
    "    \"Incivility\":[\"dickhead\",\"twat\",\"cunt\",\"whore\",\"retard\",\"bitch\",\"asshole\",\"dimwit\",\"bullshit\",\"fuck u\",\"fuck you\",\"motherfuck\"],\n",
    "    \"harrassment\":[\"penis\",\"pussy\",\"dick\",\"tits\",\"moron\",\"suck dick\",\"sexy bitch\"]\n",
    "}"
   ]
  },
  {
   "cell_type": "code",
   "execution_count": 6,
   "id": "9a4a00ca",
   "metadata": {
    "execution": {
     "iopub.execute_input": "2023-08-12T13:17:09.628131Z",
     "iopub.status.busy": "2023-08-12T13:17:09.627774Z",
     "iopub.status.idle": "2023-08-12T13:17:27.294278Z",
     "shell.execute_reply": "2023-08-12T13:17:27.293297Z",
     "shell.execute_reply.started": "2023-08-12T13:17:09.628097Z"
    }
   },
   "outputs": [],
   "source": [
    "bad_set=set()\n",
    "for k,v in bad_words.items():\n",
    "    for i in bad_words[k]: \n",
    "        bad_set.add(i)\n",
    "all_set=set()\n",
    "for i in df[\"context\"]:\n",
    "   for k in i.split(' '):\n",
    "       all_set.add(k.lower())\n",
    "    \n",
    "no_vio = all_set.difference(bad_set)  \n",
    "no_vio=list(no_vio)\n",
    "no_vio=no_vio[0:len(no_vio):5000]\n",
    "\n",
    "    \n",
    " \n",
    "from openprompt.prompts import ManualVerbalizer\n",
    "promptVerbalizer = ManualVerbalizer(\n",
    "    classes = classes,\n",
    "    label_words = {\n",
    "        \"racial_slur\": [\"nigga\",\"nigger\",\"uncle tom\",\"negro\",\"niggerhead\",\"house slave\",\"monkeyboy\"],\n",
    "        \"self_harm\": [\"kill yourself\", \"commit suicide\"],\n",
    "        \"Homophobia\":[\"lesbo\",\"faggot\",\"fag\",'cocksucker'],\n",
    "        \"Incivility\":[\"dickhead\",\"twat\",\"cunt\",\"whore\",\"retard\",\"bitch\",\"asshole\",\"dimwit\",\"bullshit\",\"fuck u\",\"fuck you\",\"motherfuck\"],\n",
    "        \"harrassment\":[\"penis\",\"pussy\",\"dick\",\"tits\",\"moron\",\"suck dick\",\"sexy bitch\"],\n",
    "        \"No Violations\": no_vio\n",
    "    },\n",
    "    tokenizer = tokenizer,\n",
    ")"
   ]
  },
  {
   "cell_type": "code",
   "execution_count": 7,
   "id": "f6abd5aa",
   "metadata": {
    "execution": {
     "iopub.execute_input": "2023-08-12T13:17:27.297973Z",
     "iopub.status.busy": "2023-08-12T13:17:27.297677Z",
     "iopub.status.idle": "2023-08-12T13:17:27.302983Z",
     "shell.execute_reply": "2023-08-12T13:17:27.301899Z",
     "shell.execute_reply.started": "2023-08-12T13:17:27.297947Z"
    }
   },
   "outputs": [],
   "source": [
    "from openprompt import PromptForClassification\n",
    "promptModel = PromptForClassification(\n",
    "    template = promptTemplate,\n",
    "    plm = plm,\n",
    "    verbalizer = promptVerbalizer,\n",
    "    freeze_plm=False,\n",
    "    plm_eval_mode=False\n",
    ")\n"
   ]
  },
  {
   "cell_type": "code",
   "execution_count": 12,
   "id": "17db5903",
   "metadata": {
    "execution": {
     "iopub.execute_input": "2023-08-12T13:17:27.304744Z",
     "iopub.status.busy": "2023-08-12T13:17:27.304200Z",
     "iopub.status.idle": "2023-08-12T13:44:44.548118Z",
     "shell.execute_reply": "2023-08-12T13:44:44.547101Z",
     "shell.execute_reply.started": "2023-08-12T13:17:27.304708Z"
    }
   },
   "outputs": [
    {
     "name": "stdout",
     "output_type": "stream",
     "text": [
      "Creating Dataset\n",
      "Creating Dataset\n"
     ]
    },
    {
     "name": "stderr",
     "output_type": "stream",
     "text": [
      "tokenizing: 173it [00:03, 56.34it/s]\n",
      "tokenizing: 44it [00:00, 50.74it/s]\n"
     ]
    },
    {
     "data": {
      "text/plain": [
       "'\\ndata_loader_test = PromptDataLoader(\\n    dataset = data_test,\\n    tokenizer = tokenizer,\\n    template = promptTemplate,\\n    tokenizer_wrapper_class=WrapperClass,\\n    shuffle=True\\n)\\n'"
      ]
     },
     "execution_count": 12,
     "metadata": {},
     "output_type": "execute_result"
    }
   ],
   "source": [
    "data_train , data_val = train_test_split(df,train_size=0.80,random_state=2018)\n",
    "#data_train,data_val = train_test_split(data_train_val,train_size=0.25,random_state=2018,stratify=data_train_val['label'])\n",
    "\n",
    "def InputExampleConverter(df): \n",
    "    dataset=[]\n",
    "    count=0\n",
    "    violation_sentence = df[\"sentence\"]\n",
    "    label=df[\"label\"]\n",
    "    context=df[\"context\"]\n",
    "    print(\"Creating Dataset\")     \n",
    "    for i in violation_sentence: \n",
    "        dataset.append(InputExample(guid=count,text_a=context[count],text_b=i,label=label[count]))\n",
    "        count=count+1\n",
    "    return(dataset)\n",
    "data_train=InputExampleConverter(data_train.reset_index())\n",
    "data_val=InputExampleConverter(data_val.reset_index())\n",
    "#data_test=InputExampleConverter(data_test.reset_index())    \n",
    "\n",
    "        \n",
    "\n",
    "\n",
    "from openprompt import PromptDataLoader\n",
    "data_loader_train = PromptDataLoader(\n",
    "    dataset = data_train,\n",
    "    tokenizer = tokenizer,\n",
    "    template = promptTemplate,\n",
    "    tokenizer_wrapper_class=WrapperClass,\n",
    "    shuffle=True\n",
    ")\n",
    "\n",
    "data_loader_val = PromptDataLoader(\n",
    "    dataset = data_val,\n",
    "    tokenizer = tokenizer,\n",
    "    template = promptTemplate,\n",
    "    tokenizer_wrapper_class=WrapperClass,\n",
    "    shuffle=True\n",
    ")\n",
    "'''\n",
    "data_loader_test = PromptDataLoader(\n",
    "    dataset = data_test,\n",
    "    tokenizer = tokenizer,\n",
    "    template = promptTemplate,\n",
    "    tokenizer_wrapper_class=WrapperClass,\n",
    "    shuffle=True\n",
    ")\n",
    "'''"
   ]
  },
  {
   "cell_type": "code",
   "execution_count": 13,
   "id": "fb8def47",
   "metadata": {
    "execution": {
     "iopub.execute_input": "2023-08-12T13:44:44.550443Z",
     "iopub.status.busy": "2023-08-12T13:44:44.549792Z",
     "iopub.status.idle": "2023-08-12T13:44:49.890393Z",
     "shell.execute_reply": "2023-08-12T13:44:49.889394Z",
     "shell.execute_reply.started": "2023-08-12T13:44:44.550403Z"
    }
   },
   "outputs": [
    {
     "name": "stderr",
     "output_type": "stream",
     "text": [
      "C:\\Users\\py22715\\.conda\\envs\\v38\\lib\\site-packages\\transformers\\optimization.py:411: FutureWarning: This implementation of AdamW is deprecated and will be removed in a future version. Use the PyTorch implementation torch.optim.AdamW instead, or set `no_deprecation_warning=True` to disable this warning\n",
      "  warnings.warn(\n"
     ]
    }
   ],
   "source": [
    "predictions=[]\n",
    "\n",
    "use_cuda = True\n",
    "if use_cuda:\n",
    "    promptModel=  promptModel.cuda()\n",
    "device = torch.device('cuda:0' if torch.cuda.is_available() else 'cpu')\n",
    "# Now the training is standard\n",
    "from transformers import  AdamW, get_linear_schedule_with_warmup\n",
    "loss_func = torch.nn.CrossEntropyLoss()\n",
    "optimizer = AdamW(promptModel.parameters(), lr=1e-5)"
   ]
  },
  {
   "cell_type": "code",
   "execution_count": 14,
   "id": "47a03c0a",
   "metadata": {
    "execution": {
     "iopub.execute_input": "2023-08-12T13:44:49.894630Z",
     "iopub.status.busy": "2023-08-12T13:44:49.893820Z"
    },
    "scrolled": true
   },
   "outputs": [
    {
     "data": {
      "application/vnd.jupyter.widget-view+json": {
       "model_id": "17b3aa9e990244c48d0a0bc0d53d37da",
       "version_major": 2,
       "version_minor": 0
      },
      "text/plain": [
       "  0%|          | 0/173 [00:00<?, ?it/s]"
      ]
     },
     "metadata": {},
     "output_type": "display_data"
    },
    {
     "name": "stdout",
     "output_type": "stream",
     "text": [
      "Epoch 0, average loss: 0.061345830326899886\n",
      "getting val score after epoch 0\n"
     ]
    },
    {
     "data": {
      "application/vnd.jupyter.widget-view+json": {
       "model_id": "0d35c750a35f4584a9a523495ef581ee",
       "version_major": 2,
       "version_minor": 0
      },
      "text/plain": [
       "  0%|          | 0/44 [00:00<?, ?it/s]"
      ]
     },
     "metadata": {},
     "output_type": "display_data"
    },
    {
     "name": "stdout",
     "output_type": "stream",
     "text": [
      "0.7045454545454546\n",
      "              precision    recall  f1-score   support\n",
      "\n",
      "           1       0.00      0.00      0.00         9\n",
      "           2       0.75      0.90      0.82        30\n",
      "           3       0.57      0.80      0.67         5\n",
      "\n",
      "    accuracy                           0.70        44\n",
      "   macro avg       0.44      0.57      0.49        44\n",
      "weighted avg       0.58      0.70      0.63        44\n",
      "\n"
     ]
    },
    {
     "data": {
      "application/vnd.jupyter.widget-view+json": {
       "model_id": "69c2a86ceb6d4144bb4b284d6e1e5e62",
       "version_major": 2,
       "version_minor": 0
      },
      "text/plain": [
       "  0%|          | 0/173 [00:00<?, ?it/s]"
      ]
     },
     "metadata": {},
     "output_type": "display_data"
    },
    {
     "name": "stdout",
     "output_type": "stream",
     "text": [
      "Epoch 1, average loss: 0.003136533370707184\n",
      "getting val score after epoch 1\n"
     ]
    },
    {
     "data": {
      "application/vnd.jupyter.widget-view+json": {
       "model_id": "27c261d1251d438e8297a0209afaa5fe",
       "version_major": 2,
       "version_minor": 0
      },
      "text/plain": [
       "  0%|          | 0/44 [00:00<?, ?it/s]"
      ]
     },
     "metadata": {},
     "output_type": "display_data"
    },
    {
     "name": "stdout",
     "output_type": "stream",
     "text": [
      "0.6590909090909091\n",
      "              precision    recall  f1-score   support\n",
      "\n",
      "           1       0.40      0.67      0.50         9\n",
      "           2       0.88      0.73      0.80        30\n",
      "           3       0.25      0.20      0.22         5\n",
      "\n",
      "    accuracy                           0.66        44\n",
      "   macro avg       0.51      0.53      0.51        44\n",
      "weighted avg       0.71      0.66      0.67        44\n",
      "\n"
     ]
    },
    {
     "data": {
      "application/vnd.jupyter.widget-view+json": {
       "model_id": "78ecbb329d0c4777a1044bf7d59887a9",
       "version_major": 2,
       "version_minor": 0
      },
      "text/plain": [
       "  0%|          | 0/173 [00:00<?, ?it/s]"
      ]
     },
     "metadata": {},
     "output_type": "display_data"
    },
    {
     "name": "stdout",
     "output_type": "stream",
     "text": [
      "Epoch 2, average loss: 0.1438874783925712\n",
      "getting val score after epoch 2\n"
     ]
    },
    {
     "data": {
      "application/vnd.jupyter.widget-view+json": {
       "model_id": "556be108e5d14df9bb64503fa158bc32",
       "version_major": 2,
       "version_minor": 0
      },
      "text/plain": [
       "  0%|          | 0/44 [00:00<?, ?it/s]"
      ]
     },
     "metadata": {},
     "output_type": "display_data"
    },
    {
     "name": "stdout",
     "output_type": "stream",
     "text": [
      "0.6590909090909091\n",
      "              precision    recall  f1-score   support\n",
      "\n",
      "           1       0.38      0.67      0.48         9\n",
      "           2       0.88      0.73      0.80        30\n",
      "           3       0.33      0.20      0.25         5\n",
      "\n",
      "    accuracy                           0.66        44\n",
      "   macro avg       0.53      0.53      0.51        44\n",
      "weighted avg       0.71      0.66      0.67        44\n",
      "\n"
     ]
    },
    {
     "data": {
      "application/vnd.jupyter.widget-view+json": {
       "model_id": "214ab662132d4737b51943311751d496",
       "version_major": 2,
       "version_minor": 0
      },
      "text/plain": [
       "  0%|          | 0/173 [00:00<?, ?it/s]"
      ]
     },
     "metadata": {},
     "output_type": "display_data"
    },
    {
     "name": "stdout",
     "output_type": "stream",
     "text": [
      "Epoch 3, average loss: 0.018014807486906648\n",
      "getting val score after epoch 3\n"
     ]
    },
    {
     "data": {
      "application/vnd.jupyter.widget-view+json": {
       "model_id": "919765503c83406a9e11d41597db16a8",
       "version_major": 2,
       "version_minor": 0
      },
      "text/plain": [
       "  0%|          | 0/44 [00:00<?, ?it/s]"
      ]
     },
     "metadata": {},
     "output_type": "display_data"
    },
    {
     "name": "stdout",
     "output_type": "stream",
     "text": [
      "0.7045454545454546\n",
      "              precision    recall  f1-score   support\n",
      "\n",
      "           1       0.36      0.44      0.40         9\n",
      "           2       0.86      0.83      0.85        30\n",
      "           3       0.50      0.40      0.44         5\n",
      "\n",
      "    accuracy                           0.70        44\n",
      "   macro avg       0.58      0.56      0.56        44\n",
      "weighted avg       0.72      0.70      0.71        44\n",
      "\n"
     ]
    },
    {
     "data": {
      "application/vnd.jupyter.widget-view+json": {
       "model_id": "618d433020bd470ea29349701df68c0b",
       "version_major": 2,
       "version_minor": 0
      },
      "text/plain": [
       "  0%|          | 0/173 [00:00<?, ?it/s]"
      ]
     },
     "metadata": {},
     "output_type": "display_data"
    },
    {
     "name": "stdout",
     "output_type": "stream",
     "text": [
      "Epoch 4, average loss: 0.013451467268168926\n",
      "getting val score after epoch 4\n"
     ]
    },
    {
     "data": {
      "application/vnd.jupyter.widget-view+json": {
       "model_id": "758dba429626437cb324eb618459c945",
       "version_major": 2,
       "version_minor": 0
      },
      "text/plain": [
       "  0%|          | 0/44 [00:00<?, ?it/s]"
      ]
     },
     "metadata": {},
     "output_type": "display_data"
    },
    {
     "name": "stdout",
     "output_type": "stream",
     "text": [
      "0.6590909090909091\n",
      "              precision    recall  f1-score   support\n",
      "\n",
      "           1       0.31      0.44      0.36         9\n",
      "           2       0.85      0.77      0.81        30\n",
      "           3       0.50      0.40      0.44         5\n",
      "\n",
      "    accuracy                           0.66        44\n",
      "   macro avg       0.55      0.54      0.54        44\n",
      "weighted avg       0.70      0.66      0.68        44\n",
      "\n"
     ]
    }
   ],
   "source": [
    "\n",
    "for epoch in range(5):\n",
    "    tot_loss = 0\n",
    "    prev_score=0\n",
    "    val_score=[]\n",
    "    test_score=[]\n",
    "    for step, inputs in tenumerate(data_loader_train):\n",
    "        if use_cuda:\n",
    "            inputs = inputs.to(device) \n",
    "        #print(step)   \n",
    "        logits = promptModel(inputs)\n",
    "        logits=logits.to(device)\n",
    "        labels = inputs['label']\n",
    "        labels=labels.to(device)\n",
    "        loss = loss_func(logits,labels.type(torch.LongTensor).to(device))\n",
    "        loss.backward()\n",
    "        tot_loss += loss.item()\n",
    "        optimizer.step()\n",
    "        optimizer.zero_grad()\n",
    "        if step %5000 ==1:\n",
    "            print(\"Epoch {}, average loss: {}\".format(epoch, tot_loss/(step+1)), flush=True)\n",
    "            \n",
    "    try: \n",
    "            torch.save({\n",
    "\n",
    "            'epoch': epoch,\n",
    "\n",
    "            'model_state_dict': promptModel.state_dict(),\n",
    "\n",
    "            'optimizer_state_dict': optimizer.state_dict(),\n",
    "\n",
    "            'loss': loss,\n",
    "                    \n",
    "            'model':promptModel       \n",
    "\n",
    "            },os.path.join(path,\"violation_type_context_model_chkpt.pt\"))\n",
    "                \n",
    "    except:\n",
    "            continue      \n",
    "    allpreds = []\n",
    "    alllabels = []\n",
    "    print(\"getting val score after epoch \"+ str(epoch))\n",
    "    for step, inputs in tenumerate(data_loader_val):\n",
    "        if use_cuda:\n",
    "            inputs = inputs.cuda()\n",
    "        logits = promptModel(inputs)\n",
    "        labels = inputs['label']\n",
    "        alllabels.extend(labels.cpu().tolist())\n",
    "        allpreds.extend(torch.argmax(logits, dim=-1).cpu().tolist())\n",
    "\n",
    "    print(f1_score(alllabels,allpreds,average=\"micro\" ))\n",
    "    print(classification_report(alllabels,allpreds))  \n",
    "    \n",
    "    "
   ]
  },
  {
   "cell_type": "code",
   "execution_count": 11,
   "id": "fa4fddee",
   "metadata": {
    "execution": {
     "iopub.status.busy": "2023-08-11T21:50:20.522844Z",
     "iopub.status.idle": "2023-08-11T21:50:20.523340Z",
     "shell.execute_reply": "2023-08-11T21:50:20.523107Z",
     "shell.execute_reply.started": "2023-08-11T21:50:20.523084Z"
    }
   },
   "outputs": [],
   "source": [
    "torch.save(promptModel,os.path.join(path,\"violation_detector.pt\"))"
   ]
  },
  {
   "cell_type": "code",
   "execution_count": null,
   "id": "19094696",
   "metadata": {},
   "outputs": [],
   "source": []
  }
 ],
 "metadata": {
  "kernelspec": {
   "display_name": "Python 3 (ipykernel)",
   "language": "python",
   "name": "python3"
  },
  "language_info": {
   "codemirror_mode": {
    "name": "ipython",
    "version": 3
   },
   "file_extension": ".py",
   "mimetype": "text/x-python",
   "name": "python",
   "nbconvert_exporter": "python",
   "pygments_lexer": "ipython3",
   "version": "3.8.17"
  }
 },
 "nbformat": 4,
 "nbformat_minor": 5
}
